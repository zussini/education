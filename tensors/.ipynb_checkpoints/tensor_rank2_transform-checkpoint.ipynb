{
 "cells": [
  {
   "cell_type": "code",
   "execution_count": 3,
   "id": "028bf83d-2964-40c2-ab4b-f99b3fd1153a",
   "metadata": {},
   "outputs": [
    {
     "data": {
      "application/vnd.jupyter.widget-view+json": {
       "model_id": "7a4cdf8b291e45f28ae037bbd0425682",
       "version_major": 2,
       "version_minor": 0
      },
      "text/plain": [
       "interactive(children=(FloatSlider(value=2.0, description='T11', max=5.0, min=-5.0), FloatSlider(value=0.5, des…"
      ]
     },
     "metadata": {},
     "output_type": "display_data"
    }
   ],
   "source": [
    "import matplotlib.pyplot as plt\n",
    "import numpy as np\n",
    "import ipywidgets as widgets\n",
    "from ipywidgets import interact\n",
    "\n",
    "def plot_transformation(T11, T12, T21, T22):\n",
    "    # Define the original basis vectors\n",
    "    basis_vectors = np.array([[1, 0], [0, 1]])\n",
    "\n",
    "    # Define the transformation matrix\n",
    "    T = np.array([[T11, T12], [T21, T22]])\n",
    "\n",
    "    # Define a contravariant vector in the original basis\n",
    "    contravariant_vector = np.array([2, 1])\n",
    "\n",
    "    # Apply the transformation to the basis vectors and the contravariant vector\n",
    "    transformed_basis_vectors = T @ basis_vectors\n",
    "    transformed_contravariant_vector = np.linalg.inv(T) @ contravariant_vector\n",
    "\n",
    "    fig, ax = plt.subplots()\n",
    "    origin = np.array([[0, 0], [0, 0]])  # origin points for basis vectors\n",
    "\n",
    "    # Plot original basis vectors\n",
    "    ax.quiver(*origin, basis_vectors[:, 0], basis_vectors[:, 1], color=['r', 'g'], scale=1, scale_units='xy', angles='xy')\n",
    "    ax.text(1.1, 0.1, 'e1', color='r')\n",
    "    ax.text(0.1, 1.1, 'e2', color='g')\n",
    "\n",
    "    # Plot transformed basis vectors\n",
    "    ax.quiver(*origin, transformed_basis_vectors[:, 0], transformed_basis_vectors[:, 1], color=['r', 'g'], alpha=0.5, scale=1, scale_units='xy', angles='xy')\n",
    "    ax.text(2.1, 0.6, 'T(e1)', color='r', alpha=0.5)\n",
    "    ax.text(0.6, 2.1, 'T(e2)', color='g', alpha=0.5)\n",
    "\n",
    "    # Plot the original contravariant vector\n",
    "    ax.quiver(0, 0, contravariant_vector[0], contravariant_vector[1], color='b', scale=1, scale_units='xy', angles='xy')\n",
    "    ax.text(2.1, 1.1, 'v', color='b')\n",
    "\n",
    "    # Plot the transformed contravariant vector\n",
    "    ax.quiver(0, 0, transformed_contravariant_vector[0], transformed_contravariant_vector[1], color='b', alpha=0.5, scale=1, scale_units='xy', angles='xy')\n",
    "    ax.text(0.8, 0.5, 'T^{-1}(v)', color='b', alpha=0.5)\n",
    "\n",
    "    # Annotate the type of transformation\n",
    "    ax.text(0, 4.8, 'Contravariant Transformation:', fontsize=12, color='black')\n",
    "    ax.text(0, 4.5, r'$T^{-1}$', fontsize=12, color='black')\n",
    "\n",
    "    # Display transformation matrix\n",
    "    transformation_matrix_str = f'T = [{T11:.1f} {T12:.1f}; {T21:.1f} {T22:.1f}]'\n",
    "    ax.text(0.05, 0.95, transformation_matrix_str, fontsize=12, color='black', transform=ax.transAxes, va='top')\n",
    "\n",
    "    ax.set_aspect('equal')\n",
    "    plt.xlim(-1, 5)\n",
    "    plt.ylim(-1, 5)\n",
    "    plt.grid()\n",
    "    plt.title('Contravariant Vector Transformation')\n",
    "    plt.xlabel('x')\n",
    "    plt.ylabel('y')\n",
    "    plt.show()\n",
    "\n",
    "# Create interactive sliders\n",
    "interact(plot_transformation,\n",
    "         T11=widgets.FloatSlider(value=2, min=-5, max=5, step=0.1, description='T11'),\n",
    "         T12=widgets.FloatSlider(value=0.5, min=-5, max=5, step=0.1, description='T12'),\n",
    "         T21=widgets.FloatSlider(value=0.5, min=-5, max=5, step=0.1, description='T21'),\n",
    "         T22=widgets.FloatSlider(value=2, min=-5, max=5, step=0.1, description='T22'));\n"
   ]
  },
  {
   "cell_type": "code",
   "execution_count": 4,
   "id": "c28c4d25-7c74-409e-b3a4-eda69a04a14d",
   "metadata": {},
   "outputs": [
    {
     "data": {
      "application/vnd.jupyter.widget-view+json": {
       "model_id": "8f0936561ec147dc9d31d2622eabfef2",
       "version_major": 2,
       "version_minor": 0
      },
      "text/plain": [
       "interactive(children=(FloatSlider(value=2.0, description='T11', max=5.0, min=-5.0), FloatSlider(value=0.5, des…"
      ]
     },
     "metadata": {},
     "output_type": "display_data"
    }
   ],
   "source": [
    "import matplotlib.pyplot as plt\n",
    "import numpy as np\n",
    "import ipywidgets as widgets\n",
    "from ipywidgets import interact\n",
    "\n",
    "def plot_transformation(T11, T12, T21, T22):\n",
    "    # Define the original basis vectors\n",
    "    basis_vectors = np.array([[1, 0], [0, 1]])\n",
    "\n",
    "    # Define the transformation matrix\n",
    "    T = np.array([[T11, T12], [T21, T22]])\n",
    "\n",
    "    # Define a covariant vector in the original basis\n",
    "    covariant_vector = np.array([2, 1])\n",
    "\n",
    "    # Apply the transformation to the basis vectors and calculate the transformed covariant vector\n",
    "    transformed_basis_vectors = T @ basis_vectors\n",
    "    transformed_covariant_vector = T.T @ covariant_vector\n",
    "\n",
    "    fig, ax = plt.subplots()\n",
    "    origin = np.array([[0, 0], [0, 0]])  # origin points for basis vectors\n",
    "\n",
    "    # Plot original basis vectors\n",
    "    ax.quiver(*origin, basis_vectors[:, 0], basis_vectors[:, 1], color=['r', 'g'], scale=1, scale_units='xy', angles='xy')\n",
    "    ax.text(1.1, 0.1, 'e1', color='r')\n",
    "    ax.text(0.1, 1.1, 'e2', color='g')\n",
    "\n",
    "    # Plot transformed basis vectors\n",
    "    ax.quiver(*origin, transformed_basis_vectors[:, 0], transformed_basis_vectors[:, 1], color=['r', 'g'], alpha=0.5, scale=1, scale_units='xy', angles='xy')\n",
    "    ax.text(2.1, 0.6, 'T(e1)', color='r', alpha=0.5)\n",
    "    ax.text(0.6, 2.1, 'T(e2)', color='g', alpha=0.5)\n",
    "\n",
    "    # Plot the original covariant vector\n",
    "    ax.quiver(0, 0, covariant_vector[0], covariant_vector[1], color='b', scale=1, scale_units='xy', angles='xy')\n",
    "    ax.text(2.1, 1.1, 'v', color='b')\n",
    "\n",
    "    # Plot the transformed covariant vector\n",
    "    ax.quiver(0, 0, transformed_covariant_vector[0], transformed_covariant_vector[1], color='b', alpha=0.5, scale=1, scale_units='xy', angles='xy')\n",
    "    ax.text(3.3, 2.7, 'T^T(v)', color='b', alpha=0.5)\n",
    "\n",
    "    # Annotate the type of transformation\n",
    "    ax.text(0, 4.8, 'Covariant Transformation:', fontsize=12, color='black')\n",
    "    ax.text(0, 4.5, r'$T^T$', fontsize=12, color='black')\n",
    "\n",
    "    # Display transformation matrix\n",
    "    transformation_matrix_str = f'T = [{T11:.1f} {T12:.1f}; {T21:.1f} {T22:.1f}]'\n",
    "    ax.text(0.05, 0.95, transformation_matrix_str, fontsize=12, color='black', transform=ax.transAxes, va='top')\n",
    "\n",
    "    ax.set_aspect('equal')\n",
    "    plt.xlim(-1, 5)\n",
    "    plt.ylim(-1, 5)\n",
    "    plt.grid()\n",
    "    plt.title('Covariant Vector Transformation')\n",
    "    plt.xlabel('x')\n",
    "    plt.ylabel('y')\n",
    "    plt.show()\n",
    "\n",
    "# Create interactive sliders\n",
    "interact(plot_transformation,\n",
    "         T11=widgets.FloatSlider(value=2, min=-5, max=5, step=0.1, description='T11'),\n",
    "         T12=widgets.FloatSlider(value=0.5, min=-5, max=5, step=0.1, description='T12'),\n",
    "         T21=widgets.FloatSlider(value=0.5, min=-5, max=5, step=0.1, description='T21'),\n",
    "         T22=widgets.FloatSlider(value=2, min=-5, max=5, step=0.1, description='T22'));\n"
   ]
  },
  {
   "cell_type": "code",
   "execution_count": null,
   "id": "dd18d313-f08f-4066-b864-b51651a7e1bb",
   "metadata": {},
   "outputs": [],
   "source": []
  }
 ],
 "metadata": {
  "kernelspec": {
   "display_name": "Python 3 (ipykernel)",
   "language": "python",
   "name": "python3"
  },
  "language_info": {
   "codemirror_mode": {
    "name": "ipython",
    "version": 3
   },
   "file_extension": ".py",
   "mimetype": "text/x-python",
   "name": "python",
   "nbconvert_exporter": "python",
   "pygments_lexer": "ipython3",
   "version": "3.12.2"
  }
 },
 "nbformat": 4,
 "nbformat_minor": 5
}
